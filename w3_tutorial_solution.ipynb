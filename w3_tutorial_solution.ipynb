{
 "cells": [
  {
   "cell_type": "markdown",
   "id": "fa987444-5bb3-4890-bf9b-0fea2395e0e5",
   "metadata": {},
   "source": [
    "## Exercises\n",
    "\n",
    "1. Load and display the image 'dog.jfif'. Save the image in png format.\n",
    "2. *Suggest 2 ways and write codes to display 2 images simultaneously.* You can use any image snapped from your handphone, downloaded from internet or images from weekly materials on MS teams. The 2 images are original color image and its corresponding grayscale image.\n",
    "3. Write codes that performs the following:\n",
    "    * Load the video “img_pexels.mp4” into the Python environment, resize it and display the videos with smaller frames (The frames can be of any size, as long as it is smaller). You can specify an arbitrary frame rate.\n",
    "    * Save it as a separate files: “smaller_img_pexels.avi” or \"smaller_img_pexels.mp4\"\n",
    "4. Enlarge the image \"dog.jfif\" by using different techniques:\n",
    "    1) Linear interpolation\n",
    "   2) Cubic interpolation\n",
    "   3) Nearest neighbor interpolation.\n",
    "\n",
    "Perform profiling on each method. Comment on the **execution times** and **quality of resulting images**."
   ]
  },
  {
   "cell_type": "code",
   "execution_count": 1,
   "id": "ebd1bf64-c1b3-4b6b-a5df-94058a11a9c8",
   "metadata": {},
   "outputs": [],
   "source": [
    "import cv2 as cv\n",
    "import numpy as np\n",
    "import sys\n",
    "assert sys.version_info >=(3,8)"
   ]
  },
  {
   "cell_type": "markdown",
   "id": "28efc582-9bbb-4774-9e19-6c6a11d1d890",
   "metadata": {},
   "source": [
    "## Solution 1"
   ]
  },
  {
   "cell_type": "code",
   "execution_count": 28,
   "id": "0addfc91-b8b0-4987-8dcd-52b7499678b8",
   "metadata": {},
   "outputs": [],
   "source": [
    "# this assumes that the user has an images folder in working directory\n",
    "img = cv.imread(\"images/dog.jfif\")\n",
    "\n",
    "if img is None:\n",
    "    sys.exit(\"The file path is not detected\")\n",
    "\n",
    "cv.imshow(\"dog\",img)\n",
    "k = cv.waitKey(0) & 0xFF\n",
    "if k == ord(\"s\"):\n",
    "    cv.imwrite(\"dog.png\",img)\n",
    "cv.destroyAllWindows()"
   ]
  },
  {
   "cell_type": "markdown",
   "id": "050e0c7c-0b24-4b99-b077-966ff8e84473",
   "metadata": {},
   "source": [
    "## Solution 2 : Method 1"
   ]
  },
  {
   "cell_type": "code",
   "execution_count": 3,
   "id": "2dc83ae1-57c8-4b63-a80a-c9d3762a3d4c",
   "metadata": {},
   "outputs": [],
   "source": [
    "img = cv.imread(\"images/soccer.jpg\")  #color image\n",
    "img_grayscale = cv.imread(\"images/soccer.jpg\",0)  #to grayscale\n",
    "\n",
    "cv.imshow(\"color\",img)  #first parameter is label, second parameter is variable name\n",
    "cv.imshow(\"grayscale\",img_grayscale)\n",
    "cv.waitKey(0)\n",
    "cv.destroyAllWindows()"
   ]
  },
  {
   "cell_type": "markdown",
   "id": "5da2660d-7463-4aa6-a97e-c947af900311",
   "metadata": {},
   "source": [
    "## Solution 2 : Method 2"
   ]
  },
  {
   "cell_type": "markdown",
   "id": "9402a717-a23f-44a3-9283-e7945714cfd6",
   "metadata": {},
   "source": [
    "Supposingly this method's purpose is to:\n",
    "- Fit 2 images in the same window\n",
    "- We could maybe do it horizontally or vertically depending on our requirements"
   ]
  },
  {
   "cell_type": "code",
   "execution_count": 7,
   "id": "676c3868-ff40-4acf-b46f-6fdab3dcd109",
   "metadata": {},
   "outputs": [
    {
     "name": "stdout",
     "output_type": "stream",
     "text": [
      "Shape of img  (1200, 800, 3)\n",
      "Shape of img_grayscale  (1200, 800)\n"
     ]
    }
   ],
   "source": [
    "#Check size of color image and grayscale image\n",
    "img = cv.imread(\"images/soccer.jpg\")\n",
    "img_grayscale = cv.imread(\"images/soccer.jpg\",0)\n",
    "\n",
    "print(\"Shape of img \" , img.shape)\n",
    "print(\"Shape of img_grayscale \" , img_grayscale.shape)\n",
    "\n",
    "#since they both have different dimensions\n",
    "#we need to add an extra dimension to grayscale image"
   ]
  },
  {
   "cell_type": "code",
   "execution_count": 11,
   "id": "ba6bd571-9925-412a-88be-b91e876a3108",
   "metadata": {},
   "outputs": [
    {
     "name": "stdout",
     "output_type": "stream",
     "text": [
      "Collecting scikit-image\n",
      "  Downloading scikit_image-0.24.0-cp310-cp310-win_amd64.whl (12.9 MB)\n",
      "     --------------------------------------- 12.9/12.9 MB 28.4 MB/s eta 0:00:00\n",
      "Requirement already satisfied: imageio>=2.33 in c:\\users\\kok shen\\appdata\\local\\programs\\python\\python310\\lib\\site-packages (from scikit-image) (2.34.2)\n",
      "Collecting lazy-loader>=0.4\n",
      "  Downloading lazy_loader-0.4-py3-none-any.whl (12 kB)\n",
      "Collecting networkx>=2.8\n",
      "  Downloading networkx-3.3-py3-none-any.whl (1.7 MB)\n",
      "     ---------------------------------------- 1.7/1.7 MB 54.6 MB/s eta 0:00:00\n",
      "Requirement already satisfied: numpy>=1.23 in c:\\users\\kok shen\\appdata\\local\\programs\\python\\python310\\lib\\site-packages (from scikit-image) (1.24.3)\n",
      "Requirement already satisfied: scipy>=1.9 in c:\\users\\kok shen\\appdata\\local\\programs\\python\\python310\\lib\\site-packages (from scikit-image) (1.11.2)\n",
      "Requirement already satisfied: pillow>=9.1 in c:\\users\\kok shen\\appdata\\local\\programs\\python\\python310\\lib\\site-packages (from scikit-image) (9.5.0)\n",
      "Collecting tifffile>=2022.8.12\n",
      "  Downloading tifffile-2024.7.2-py3-none-any.whl (225 kB)\n",
      "     ---------------------------------------- 225.9/225.9 kB ? eta 0:00:00\n",
      "Requirement already satisfied: packaging>=21 in c:\\users\\kok shen\\appdata\\local\\programs\\python\\python310\\lib\\site-packages (from scikit-image) (23.1)\n",
      "Installing collected packages: tifffile, networkx, lazy-loader, scikit-image\n",
      "Successfully installed lazy-loader-0.4 networkx-3.3 scikit-image-0.24.0 tifffile-2024.7.2\n",
      "Note: you may need to restart the kernel to use updated packages.\n"
     ]
    },
    {
     "name": "stderr",
     "output_type": "stream",
     "text": [
      "WARNING: There was an error checking the latest version of pip.\n"
     ]
    }
   ],
   "source": [
    "pip install scikit-image"
   ]
  },
  {
   "cell_type": "code",
   "execution_count": 22,
   "id": "a035c1ae-fbd2-4c29-ab28-3678b0199b9f",
   "metadata": {},
   "outputs": [],
   "source": [
    "#Reference : \n",
    "#[1] https://stackoverflow.com/questions/59219210/extend-a-greyscale-image-to-fit-a-rgb-image\n",
    "#[2] https://stackoverflow.com/questions/42920201/how-to-combine-a-rgb-image-with-a-grayed-image-in-opencv\n",
    "#[3] https://stackoverflow.com/questions/7589012/combining-two-images-with-opencv/24522170\n",
    "#[4] https://stackoverflow.com/questions/57577021/converting-a-2d-array-grayscale-image-into-3d-rgb-image-array\n",
    "\n",
    "#the below code mainly uses the idea of NumPy and Scikit-image libraries\n",
    "import numpy as np\n",
    "from skimage import io\n",
    "\n",
    "img = cv.imread(\"images/soccer.jpg\")\n",
    "img_grayscale = cv.imread(\"images/soccer.jpg\",0)\n",
    "\n",
    "#this won't work, they are different dimensions\n",
    "# numpy_horizontal_concat = np.concatenate((img,img_grayscale),axis=1)\n",
    "\n",
    "rows_rgb, cols_rgb,channels = img.shape\n",
    "rows_gray, cols_gray = img_grayscale.shape\n",
    "\n",
    "rows_comb = max(rows_rgb,rows_gray)\n",
    "cols_comb = cols_rgb + cols_gray\n",
    "comb = np.zeros(shape=(rows_comb,cols_comb,channels),dtype=np.uint8)\n",
    "\n",
    "comb[:rows_rgb, :cols_rgb] = img\n",
    "comb[:rows_gray, cols_rgb:] = img_grayscale[:,:,None]\n",
    "\n",
    "cv.imshow(\"Side by side \" , comb)\n",
    "cv.waitKey(0)\n",
    "cv.destroyAllWindows()\n",
    "                          "
   ]
  },
  {
   "cell_type": "markdown",
   "id": "a6b25a48-bd5a-424f-80ab-86fa9f0e9924",
   "metadata": {},
   "source": [
    "## Solution 2 : Method 3"
   ]
  },
  {
   "cell_type": "code",
   "execution_count": 27,
   "id": "2d67ddf5-c20c-4448-97f5-ff0a40f92197",
   "metadata": {},
   "outputs": [
    {
     "name": "stdout",
     "output_type": "stream",
     "text": [
      "(1200, 800, 3)\n"
     ]
    }
   ],
   "source": [
    "import cv2 as cv\n",
    "import numpy as np\n",
    "\n",
    "# Read the original and grayscale images\n",
    "img = cv.imread(\"images/soccer.jpg\")\n",
    "img_grayscale = cv.imread(\"images/soccer.jpg\", 0)\n",
    "\n",
    "# Create an RGB version of the grayscale image by stacking the grayscale image three times\n",
    "# we are basically stacking Shape of img_grayscale  (1200, 800) 3 times\n",
    "#because originally we only had a 2d array\n",
    "# we want to convert 2d grayscale image into 3d rgb image\n",
    "\n",
    "RGB_img_grayscale = np.dstack((img_grayscale, img_grayscale, img_grayscale))\n",
    "\n",
    "# Concatenate the original and the new RGB grayscale image side by side\n",
    "numpy_horizontal_concat = np.concatenate((img, RGB_img_grayscale), axis=1)\n",
    "\n",
    "print(RGB_img_grayscale.shape)\n",
    "# Display the concatenated image\n",
    "cv.imshow(\"Side by side\", numpy_horizontal_concat)\n",
    "cv.waitKey(0)\n",
    "cv.destroyAllWindows()\n"
   ]
  },
  {
   "cell_type": "markdown",
   "id": "7651765d-7cb1-4619-b2e8-fd08a3ec93a0",
   "metadata": {},
   "source": [
    "## Useful reading to understand RGB better\n",
    "- https://medium-parser.vercel.app/?url=https://towardsdatascience.com/exploring-the-mnist-digits-dataset-7ff62631766a\n",
    "- https://datahacker.rs/convolution-rgb-image/"
   ]
  },
  {
   "cell_type": "markdown",
   "id": "09adcbe6-39cd-4c69-8684-3e43c1aae475",
   "metadata": {},
   "source": [
    "## Solution 3"
   ]
  },
  {
   "cell_type": "code",
   "execution_count": 65,
   "id": "34ea8c5b-1c2c-42fd-9b9f-6c9e76db5a8a",
   "metadata": {},
   "outputs": [],
   "source": [
    "#in order to save a video file, must create a video write object\n",
    "\n",
    "cap = cv.VideoCapture(\"videos/img_pexels.mp4\")\n",
    "\n",
    "if not cap.isOpened():\n",
    "    raise Exception(\"No video file detected\")\n",
    "\n",
    "width = int(cap.get(3))  #default dimension\n",
    "height = int(cap.get(4)) #default dimension\n",
    "fourcc = cv.VideoWriter_fourcc(\"M\",\"J\",\"P\",\"G\")   \n",
    "\n",
    "new_width = 300\n",
    "new_height = 150\n",
    "\n",
    "fps = 60\n",
    "out = cv.VideoWriter(\"smaller_img_pexels.avi\",fourcc,fps,(new_width,new_height))  #used to write video frames to a file\n",
    "\n",
    "while cap.isOpened():\n",
    "    ret,frame = cap.read()\n",
    "\n",
    "    if not ret:\n",
    "        print(\"Can't receive frame\")\n",
    "        break\n",
    "\n",
    "    resize_frame = cv.resize(frame, (new_width,new_height)) \n",
    "    out.write(resize_frame)  #writes current frame to output video file\n",
    "    \n",
    "    cv.imshow(\"resized video\", resize_frame)\n",
    "    if cv.waitKey(1) & 0xFF == 27:\n",
    "        break\n",
    "        \n",
    "\n",
    "cap.release()\n",
    "out.release()  #closes the video file\n",
    "cv.destroyAllWindows()"
   ]
  },
  {
   "cell_type": "markdown",
   "id": "ccc77398-8f72-41f2-ac00-8ad7e1a62444",
   "metadata": {},
   "source": [
    "## Solution 4 : Method 1"
   ]
  },
  {
   "cell_type": "code",
   "execution_count": 5,
   "id": "227ade85-8b91-4724-9712-1768faa3a04f",
   "metadata": {},
   "outputs": [
    {
     "name": "stdout",
     "output_type": "stream",
     "text": [
      "Collecting line_profiler\n",
      "  Downloading line_profiler-4.1.3-cp310-cp310-win_amd64.whl (125 kB)\n",
      "     ------------------------------------ 125.5/125.5 kB 922.3 kB/s eta 0:00:00\n",
      "Installing collected packages: line_profiler\n",
      "Successfully installed line_profiler-4.1.3\n",
      "Note: you may need to restart the kernel to use updated packages.\n"
     ]
    },
    {
     "name": "stderr",
     "output_type": "stream",
     "text": [
      "WARNING: There was an error checking the latest version of pip.\n"
     ]
    }
   ],
   "source": [
    "pip install line_profiler"
   ]
  },
  {
   "cell_type": "code",
   "execution_count": 6,
   "id": "dedc29c8-aa1b-400e-a48a-98bf988bdc84",
   "metadata": {},
   "outputs": [],
   "source": [
    "%load_ext line_profiler"
   ]
  },
  {
   "cell_type": "code",
   "execution_count": 39,
   "id": "99b53982-5425-433a-9281-52cd41228311",
   "metadata": {},
   "outputs": [],
   "source": [
    "import cv2 as cv\n",
    "def display_images(images,titles):\n",
    "    for image, title in zip (images,titles):\n",
    "        cv.imshow(title,image)\n",
    "\n",
    "    cv.waitKey(0)\n",
    "    cv.destroyAllWindows()"
   ]
  },
  {
   "cell_type": "code",
   "execution_count": 47,
   "id": "765d62aa-9ebc-4247-ad70-9398e3a44461",
   "metadata": {},
   "outputs": [
    {
     "data": {
      "text/plain": [
       "Timer unit: 1e-07 s\n",
       "\n",
       "Total time: 10.0327 s\n",
       "\n",
       "Could not find file C:\\Users\\kok shen\\AppData\\Local\\Temp\\ipykernel_20944\\3532763709.py\n",
       "Are you sure you are running this program from the same directory\n",
       "that you ran the profiler from?\n",
       "Continuing without the function's contents.\n",
       "\n",
       "Line #      Hits         Time  Per Hit   % Time  Line Contents\n",
       "==============================================================\n",
       "     3                                           \n",
       "     4         1      13080.0  13080.0      0.0  \n",
       "     5         1         14.0     14.0      0.0  \n",
       "     6         1      11699.0  11699.0      0.0  \n",
       "     7         1  100301876.0    1e+08    100.0"
      ]
     },
     "metadata": {},
     "output_type": "display_data"
    }
   ],
   "source": [
    "#Linear interpolation\n",
    "\n",
    "def method_1() :\n",
    "    img = cv.imread(\"images/dog.jfif\")\n",
    "    new_dim = (1200,800)\n",
    "    img_resize = cv.resize(img,new_dim,interpolation=cv.INTER_LINEAR)\n",
    "    display_images([img,img_resize],(\"original\",\"resize\"))\n",
    "\n",
    "%lprun -f method_1 method_1()"
   ]
  },
  {
   "cell_type": "markdown",
   "id": "3647f6bc-8fd4-4d1a-8780-38a8d0f6b56e",
   "metadata": {},
   "source": [
    "## Solution 4 : Method 2"
   ]
  },
  {
   "cell_type": "code",
   "execution_count": 49,
   "id": "4505294c-8387-4f53-a3cc-b299aa2caa29",
   "metadata": {},
   "outputs": [
    {
     "data": {
      "text/plain": [
       "Timer unit: 1e-07 s\n",
       "\n",
       "Total time: 3.03032 s\n",
       "\n",
       "Could not find file C:\\Users\\kok shen\\AppData\\Local\\Temp\\ipykernel_20944\\3532763709.py\n",
       "Are you sure you are running this program from the same directory\n",
       "that you ran the profiler from?\n",
       "Continuing without the function's contents.\n",
       "\n",
       "Line #      Hits         Time  Per Hit   % Time  Line Contents\n",
       "==============================================================\n",
       "     3                                           \n",
       "     4         1         14.0     14.0      0.0  \n",
       "     5         1      13999.0  13999.0      0.0  \n",
       "     6         1   30289202.0    3e+07    100.0"
      ]
     },
     "metadata": {},
     "output_type": "display_data"
    }
   ],
   "source": [
    "#Cubic interpolation\n",
    "def method_2() :\n",
    "    img = cv.imread(\"images/dog.jfif\")\n",
    "    new_dim = (1200,800)\n",
    "    img_resize = cv.resize(img,new_dim,interpolation=cv.INTER_CUBIC)\n",
    "    display_images([img,img_resize],(\"original\",\"resize\"))\n",
    "\n",
    "%lprun -f method_1 method_2()"
   ]
  },
  {
   "cell_type": "code",
   "execution_count": null,
   "id": "11a8f4e1-50f1-4420-ae8b-b93ffdd4eac6",
   "metadata": {},
   "outputs": [],
   "source": []
  },
  {
   "cell_type": "markdown",
   "id": "668f1ace-8157-4480-9962-f60a01788072",
   "metadata": {},
   "source": [
    "## Solution 4 : Method 3"
   ]
  },
  {
   "cell_type": "code",
   "execution_count": 48,
   "id": "300d40c9-6f4e-496a-b0ef-372b3d596a96",
   "metadata": {},
   "outputs": [
    {
     "data": {
      "text/plain": [
       "Timer unit: 1e-07 s\n",
       "\n",
       "Total time: 2.10187 s\n",
       "\n",
       "Could not find file C:\\Users\\kok shen\\AppData\\Local\\Temp\\ipykernel_20944\\3532763709.py\n",
       "Are you sure you are running this program from the same directory\n",
       "that you ran the profiler from?\n",
       "Continuing without the function's contents.\n",
       "\n",
       "Line #      Hits         Time  Per Hit   % Time  Line Contents\n",
       "==============================================================\n",
       "     3                                           \n",
       "     4         1        221.0    221.0      0.0  \n",
       "     5         1      12072.0  12072.0      0.1  \n",
       "     6         1   21006390.0    2e+07     99.9"
      ]
     },
     "metadata": {},
     "output_type": "display_data"
    }
   ],
   "source": [
    "#Nearest Neighbor interpolation\n",
    "def method_3() :\n",
    "    img = cv.imread(\"images/dog.jfif\")\n",
    "    new_dim = (1200,800)\n",
    "    img_resize = cv.resize(img,new_dim,interpolation=cv.INTER_NEAREST)\n",
    "    display_images([img,img_resize],(\"original\",\"resize\"))\n",
    "\n",
    "%lprun -f method_1 method_3()"
   ]
  },
  {
   "cell_type": "markdown",
   "id": "a105c301-1191-43c6-9ad1-af54b2f9872b",
   "metadata": {},
   "source": [
    "## Using Cprofile"
   ]
  },
  {
   "cell_type": "code",
   "execution_count": 27,
   "id": "f0bac442-58b4-4427-ac83-cd223f3d5ebe",
   "metadata": {},
   "outputs": [
    {
     "name": "stdout",
     "output_type": "stream",
     "text": [
      "         45 function calls in 0.128 seconds\n",
      "\n",
      "   Ordered by: cumulative time\n",
      "\n",
      "   ncalls  tottime  percall  cumtime  percall filename:lineno(function)\n",
      "        2    0.000    0.000    0.128    0.064 C:\\Users\\kok shen\\AppData\\Local\\Programs\\Python\\Python310\\lib\\site-packages\\IPython\\core\\interactiveshell.py:3512(run_code)\n",
      "        2    0.000    0.000    0.128    0.064 {built-in method builtins.exec}\n",
      "        1    0.000    0.000    0.128    0.128 C:\\Users\\kok shen\\AppData\\Local\\Temp\\ipykernel_20944\\1633686941.py:10(method_1)\n",
      "        1    0.000    0.000    0.126    0.126 C:\\Users\\kok shen\\AppData\\Local\\Temp\\ipykernel_20944\\1633686941.py:3(display_images)\n",
      "        2    0.094    0.047    0.094    0.047 {imshow}\n",
      "        1    0.033    0.033    0.033    0.033 {destroyAllWindows}\n",
      "        1    0.001    0.001    0.001    0.001 {imread}\n",
      "        1    0.000    0.000    0.000    0.000 {resize}\n",
      "        2    0.000    0.000    0.000    0.000 C:\\Users\\kok shen\\AppData\\Local\\Programs\\Python\\Python310\\lib\\codeop.py:117(__call__)\n",
      "        2    0.000    0.000    0.000    0.000 {built-in method builtins.compile}\n",
      "        2    0.000    0.000    0.000    0.000 C:\\Users\\kok shen\\AppData\\Local\\Programs\\Python\\Python310\\lib\\contextlib.py:279(helper)\n",
      "        2    0.000    0.000    0.000    0.000 C:\\Users\\kok shen\\AppData\\Local\\Programs\\Python\\Python310\\lib\\contextlib.py:130(__enter__)\n",
      "        4    0.000    0.000    0.000    0.000 {built-in method builtins.next}\n",
      "        2    0.000    0.000    0.000    0.000 C:\\Users\\kok shen\\AppData\\Local\\Programs\\Python\\Python310\\lib\\contextlib.py:102(__init__)\n",
      "        2    0.000    0.000    0.000    0.000 C:\\Users\\kok shen\\AppData\\Local\\Programs\\Python\\Python310\\lib\\contextlib.py:139(__exit__)\n",
      "        1    0.000    0.000    0.000    0.000 C:\\Users\\kok shen\\AppData\\Local\\Temp\\ipykernel_20944\\1819590388.py:1(<module>)\n",
      "        4    0.000    0.000    0.000    0.000 C:\\Users\\kok shen\\AppData\\Local\\Programs\\Python\\Python310\\lib\\site-packages\\IPython\\core\\compilerop.py:180(extra_flags)\n",
      "        2    0.000    0.000    0.000    0.000 C:\\Users\\kok shen\\AppData\\Local\\Programs\\Python\\Python310\\lib\\site-packages\\traitlets\\traitlets.py:692(__get__)\n",
      "        2    0.000    0.000    0.000    0.000 C:\\Users\\kok shen\\AppData\\Local\\Programs\\Python\\Python310\\lib\\site-packages\\traitlets\\traitlets.py:654(get)\n",
      "        4    0.000    0.000    0.000    0.000 {built-in method builtins.getattr}\n",
      "        2    0.000    0.000    0.000    0.000 C:\\Users\\kok shen\\AppData\\Local\\Programs\\Python\\Python310\\lib\\site-packages\\IPython\\core\\interactiveshell.py:3464(compare)\n",
      "        2    0.000    0.000    0.000    0.000 C:\\Users\\kok shen\\AppData\\Local\\Programs\\Python\\Python310\\lib\\site-packages\\IPython\\core\\interactiveshell.py:1253(user_global_ns)\n",
      "        1    0.000    0.000    0.000    0.000 {method 'disable' of '_lsprof.Profiler' objects}\n",
      "\n",
      "\n"
     ]
    },
    {
     "data": {
      "text/plain": [
       "<pstats.Stats at 0x271724b7ee0>"
      ]
     },
     "execution_count": 27,
     "metadata": {},
     "output_type": "execute_result"
    }
   ],
   "source": [
    "import cProfile\n",
    "import pstats\n",
    "\n",
    "profiler = cProfile.Profile()\n",
    "profiler.enable()\n",
    "\n",
    "method_1()\n",
    "\n",
    "profiler.disable()\n",
    "stats = pstats.Stats(profiler).sort_stats('cumtime')\n",
    "stats.print_stats()\n"
   ]
  },
  {
   "cell_type": "code",
   "execution_count": 28,
   "id": "c1efdd7c-ddef-451d-a7d6-1ebf228d047a",
   "metadata": {},
   "outputs": [
    {
     "name": "stdout",
     "output_type": "stream",
     "text": [
      "         45 function calls in 0.207 seconds\n",
      "\n",
      "   Ordered by: cumulative time\n",
      "\n",
      "   ncalls  tottime  percall  cumtime  percall filename:lineno(function)\n",
      "        2    0.000    0.000    0.207    0.103 C:\\Users\\kok shen\\AppData\\Local\\Programs\\Python\\Python310\\lib\\site-packages\\IPython\\core\\interactiveshell.py:3512(run_code)\n",
      "        2    0.000    0.000    0.207    0.103 {built-in method builtins.exec}\n",
      "        1    0.000    0.000    0.207    0.207 C:\\Users\\kok shen\\AppData\\Local\\Temp\\ipykernel_20944\\3666958759.py:2(method_2)\n",
      "        1    0.000    0.000    0.205    0.205 C:\\Users\\kok shen\\AppData\\Local\\Temp\\ipykernel_20944\\1633686941.py:3(display_images)\n",
      "        2    0.172    0.086    0.172    0.086 {imshow}\n",
      "        1    0.033    0.033    0.033    0.033 {destroyAllWindows}\n",
      "        1    0.001    0.001    0.001    0.001 {imread}\n",
      "        1    0.000    0.000    0.000    0.000 {resize}\n",
      "        2    0.000    0.000    0.000    0.000 C:\\Users\\kok shen\\AppData\\Local\\Programs\\Python\\Python310\\lib\\codeop.py:117(__call__)\n",
      "        2    0.000    0.000    0.000    0.000 {built-in method builtins.compile}\n",
      "        2    0.000    0.000    0.000    0.000 C:\\Users\\kok shen\\AppData\\Local\\Programs\\Python\\Python310\\lib\\contextlib.py:279(helper)\n",
      "        4    0.000    0.000    0.000    0.000 {built-in method builtins.next}\n",
      "        2    0.000    0.000    0.000    0.000 C:\\Users\\kok shen\\AppData\\Local\\Programs\\Python\\Python310\\lib\\contextlib.py:130(__enter__)\n",
      "        2    0.000    0.000    0.000    0.000 C:\\Users\\kok shen\\AppData\\Local\\Programs\\Python\\Python310\\lib\\contextlib.py:139(__exit__)\n",
      "        2    0.000    0.000    0.000    0.000 C:\\Users\\kok shen\\AppData\\Local\\Programs\\Python\\Python310\\lib\\contextlib.py:102(__init__)\n",
      "        1    0.000    0.000    0.000    0.000 C:\\Users\\kok shen\\AppData\\Local\\Temp\\ipykernel_20944\\769454750.py:1(<module>)\n",
      "        2    0.000    0.000    0.000    0.000 C:\\Users\\kok shen\\AppData\\Local\\Programs\\Python\\Python310\\lib\\site-packages\\traitlets\\traitlets.py:692(__get__)\n",
      "        4    0.000    0.000    0.000    0.000 C:\\Users\\kok shen\\AppData\\Local\\Programs\\Python\\Python310\\lib\\site-packages\\IPython\\core\\compilerop.py:180(extra_flags)\n",
      "        2    0.000    0.000    0.000    0.000 C:\\Users\\kok shen\\AppData\\Local\\Programs\\Python\\Python310\\lib\\site-packages\\traitlets\\traitlets.py:654(get)\n",
      "        4    0.000    0.000    0.000    0.000 {built-in method builtins.getattr}\n",
      "        2    0.000    0.000    0.000    0.000 C:\\Users\\kok shen\\AppData\\Local\\Programs\\Python\\Python310\\lib\\site-packages\\IPython\\core\\interactiveshell.py:3464(compare)\n",
      "        2    0.000    0.000    0.000    0.000 C:\\Users\\kok shen\\AppData\\Local\\Programs\\Python\\Python310\\lib\\site-packages\\IPython\\core\\interactiveshell.py:1253(user_global_ns)\n",
      "        1    0.000    0.000    0.000    0.000 {method 'disable' of '_lsprof.Profiler' objects}\n",
      "\n",
      "\n"
     ]
    },
    {
     "data": {
      "text/plain": [
       "<pstats.Stats at 0x271724b7d90>"
      ]
     },
     "execution_count": 28,
     "metadata": {},
     "output_type": "execute_result"
    }
   ],
   "source": [
    "import cProfile\n",
    "import pstats\n",
    "\n",
    "profiler = cProfile.Profile()\n",
    "profiler.enable()\n",
    "\n",
    "method_2()\n",
    "\n",
    "profiler.disable()\n",
    "stats = pstats.Stats(profiler).sort_stats('cumtime')\n",
    "stats.print_stats()"
   ]
  },
  {
   "cell_type": "code",
   "execution_count": 29,
   "id": "05883489-8773-4e78-bbba-2fe99096f397",
   "metadata": {},
   "outputs": [
    {
     "name": "stdout",
     "output_type": "stream",
     "text": [
      "         45 function calls in 0.278 seconds\n",
      "\n",
      "   Ordered by: cumulative time\n",
      "\n",
      "   ncalls  tottime  percall  cumtime  percall filename:lineno(function)\n",
      "        2    0.000    0.000    0.278    0.139 C:\\Users\\kok shen\\AppData\\Local\\Programs\\Python\\Python310\\lib\\site-packages\\IPython\\core\\interactiveshell.py:3512(run_code)\n",
      "        2    0.000    0.000    0.278    0.139 {built-in method builtins.exec}\n",
      "        1    0.000    0.000    0.278    0.278 C:\\Users\\kok shen\\AppData\\Local\\Temp\\ipykernel_20944\\2918942059.py:1(<module>)\n",
      "        1    0.000    0.000    0.278    0.278 C:\\Users\\kok shen\\AppData\\Local\\Temp\\ipykernel_20944\\313599484.py:2(method_3)\n",
      "        1    0.000    0.000    0.276    0.276 C:\\Users\\kok shen\\AppData\\Local\\Temp\\ipykernel_20944\\1633686941.py:3(display_images)\n",
      "        2    0.217    0.108    0.217    0.108 {imshow}\n",
      "        1    0.059    0.059    0.059    0.059 {destroyAllWindows}\n",
      "        1    0.001    0.001    0.001    0.001 {imread}\n",
      "        1    0.000    0.000    0.000    0.000 {resize}\n",
      "        2    0.000    0.000    0.000    0.000 C:\\Users\\kok shen\\AppData\\Local\\Programs\\Python\\Python310\\lib\\codeop.py:117(__call__)\n",
      "        2    0.000    0.000    0.000    0.000 {built-in method builtins.compile}\n",
      "        2    0.000    0.000    0.000    0.000 C:\\Users\\kok shen\\AppData\\Local\\Programs\\Python\\Python310\\lib\\contextlib.py:139(__exit__)\n",
      "        2    0.000    0.000    0.000    0.000 C:\\Users\\kok shen\\AppData\\Local\\Programs\\Python\\Python310\\lib\\contextlib.py:279(helper)\n",
      "        4    0.000    0.000    0.000    0.000 {built-in method builtins.next}\n",
      "        2    0.000    0.000    0.000    0.000 C:\\Users\\kok shen\\AppData\\Local\\Programs\\Python\\Python310\\lib\\site-packages\\traitlets\\traitlets.py:692(__get__)\n",
      "        2    0.000    0.000    0.000    0.000 C:\\Users\\kok shen\\AppData\\Local\\Programs\\Python\\Python310\\lib\\contextlib.py:130(__enter__)\n",
      "        2    0.000    0.000    0.000    0.000 C:\\Users\\kok shen\\AppData\\Local\\Programs\\Python\\Python310\\lib\\contextlib.py:102(__init__)\n",
      "        2    0.000    0.000    0.000    0.000 C:\\Users\\kok shen\\AppData\\Local\\Programs\\Python\\Python310\\lib\\site-packages\\traitlets\\traitlets.py:654(get)\n",
      "        4    0.000    0.000    0.000    0.000 C:\\Users\\kok shen\\AppData\\Local\\Programs\\Python\\Python310\\lib\\site-packages\\IPython\\core\\compilerop.py:180(extra_flags)\n",
      "        2    0.000    0.000    0.000    0.000 C:\\Users\\kok shen\\AppData\\Local\\Programs\\Python\\Python310\\lib\\site-packages\\IPython\\core\\interactiveshell.py:3464(compare)\n",
      "        4    0.000    0.000    0.000    0.000 {built-in method builtins.getattr}\n",
      "        2    0.000    0.000    0.000    0.000 C:\\Users\\kok shen\\AppData\\Local\\Programs\\Python\\Python310\\lib\\site-packages\\IPython\\core\\interactiveshell.py:1253(user_global_ns)\n",
      "        1    0.000    0.000    0.000    0.000 {method 'disable' of '_lsprof.Profiler' objects}\n",
      "\n",
      "\n"
     ]
    },
    {
     "data": {
      "text/plain": [
       "<pstats.Stats at 0x27152a78340>"
      ]
     },
     "execution_count": 29,
     "metadata": {},
     "output_type": "execute_result"
    }
   ],
   "source": [
    "import cProfile\n",
    "import pstats\n",
    "\n",
    "profiler = cProfile.Profile()\n",
    "profiler.enable()\n",
    "\n",
    "method_3()\n",
    "\n",
    "profiler.disable()\n",
    "stats = pstats.Stats(profiler).sort_stats('cumtime')\n",
    "stats.print_stats()"
   ]
  },
  {
   "cell_type": "markdown",
   "id": "32dac4d4-39b0-408e-b86b-810d5a64ffec",
   "metadata": {},
   "source": [
    "## Final Solution : Combining profiling methods together"
   ]
  },
  {
   "cell_type": "code",
   "execution_count": 37,
   "id": "2d161720-1d13-4c9f-8b3f-e81d2a938365",
   "metadata": {},
   "outputs": [
    {
     "name": "stdout",
     "output_type": "stream",
     "text": [
      "Profiling results for Linear Interpolation:\n",
      "         8 function calls in 0.293 seconds\n",
      "\n",
      "   Ordered by: cumulative time\n",
      "\n",
      "   ncalls  tottime  percall  cumtime  percall filename:lineno(function)\n",
      "        1    0.000    0.000    0.293    0.293 C:\\Users\\kok shen\\AppData\\Local\\Temp\\ipykernel_20944\\2003948927.py:14(method_1)\n",
      "        1    0.000    0.000    0.292    0.292 C:\\Users\\kok shen\\AppData\\Local\\Temp\\ipykernel_20944\\2003948927.py:6(display_images)\n",
      "        2    0.190    0.095    0.190    0.095 {imshow}\n",
      "        1    0.102    0.102    0.102    0.102 {destroyAllWindows}\n",
      "        1    0.001    0.001    0.001    0.001 {imread}\n",
      "        1    0.000    0.000    0.000    0.000 {resize}\n",
      "        1    0.000    0.000    0.000    0.000 {method 'disable' of '_lsprof.Profiler' objects}\n",
      "\n",
      "\n",
      "\n",
      "Profiling results for Cubic Interpolation:\n",
      "         8 function calls in 0.113 seconds\n",
      "\n",
      "   Ordered by: cumulative time\n",
      "\n",
      "   ncalls  tottime  percall  cumtime  percall filename:lineno(function)\n",
      "        1    0.000    0.000    0.113    0.113 C:\\Users\\kok shen\\AppData\\Local\\Temp\\ipykernel_20944\\2003948927.py:21(method_2)\n",
      "        1    0.000    0.000    0.111    0.111 C:\\Users\\kok shen\\AppData\\Local\\Temp\\ipykernel_20944\\2003948927.py:6(display_images)\n",
      "        2    0.076    0.038    0.076    0.038 {imshow}\n",
      "        1    0.034    0.034    0.034    0.034 {destroyAllWindows}\n",
      "        1    0.002    0.002    0.002    0.002 {imread}\n",
      "        1    0.000    0.000    0.000    0.000 {resize}\n",
      "        1    0.000    0.000    0.000    0.000 {method 'disable' of '_lsprof.Profiler' objects}\n",
      "\n",
      "\n",
      "\n",
      "Profiling results for Nearest Neighbor interpolation:\n",
      "         8 function calls in 0.089 seconds\n",
      "\n",
      "   Ordered by: cumulative time\n",
      "\n",
      "   ncalls  tottime  percall  cumtime  percall filename:lineno(function)\n",
      "        1    0.000    0.000    0.089    0.089 C:\\Users\\kok shen\\AppData\\Local\\Temp\\ipykernel_20944\\2003948927.py:28(method_3)\n",
      "        1    0.000    0.000    0.087    0.087 C:\\Users\\kok shen\\AppData\\Local\\Temp\\ipykernel_20944\\2003948927.py:6(display_images)\n",
      "        2    0.060    0.030    0.060    0.030 {imshow}\n",
      "        1    0.026    0.026    0.026    0.026 {destroyAllWindows}\n",
      "        1    0.001    0.001    0.001    0.001 {imread}\n",
      "        1    0.000    0.000    0.000    0.000 {resize}\n",
      "        1    0.000    0.000    0.000    0.000 {method 'disable' of '_lsprof.Profiler' objects}\n",
      "\n",
      "\n",
      "\n"
     ]
    }
   ],
   "source": [
    "import cv2 as cv\n",
    "import cProfile\n",
    "import pstats\n",
    "from io import StringIO\n",
    "\n",
    "def display_images(images,titles):\n",
    "    for image, title in zip (images,titles):\n",
    "        cv.imshow(title,image)\n",
    "\n",
    "    # cv.waitKey(0)\n",
    "    cv.destroyAllWindows()\n",
    "\n",
    "#Linear interpolation\n",
    "def method_1() :\n",
    "    img = cv.imread(\"images/dog.jfif\")\n",
    "    new_dim = (300,200)\n",
    "    img_resize = cv.resize(img,new_dim,interpolation=cv.INTER_LINEAR)\n",
    "    display_images([img,img_resize],(\"original\",\"resize\"))\n",
    "\n",
    "#Cubic interpolation\n",
    "def method_2() :\n",
    "    img = cv.imread(\"images/dog.jfif\")\n",
    "    new_dim = (300,200)\n",
    "    img_resize = cv.resize(img,new_dim,interpolation=cv.INTER_CUBIC)\n",
    "    display_images([img,img_resize],(\"original\",\"resize\"))\n",
    "\n",
    "#Nearest Neighbor interpolation\n",
    "def method_3() :\n",
    "    img = cv.imread(\"images/dog.jfif\")\n",
    "    new_dim = (300,200)\n",
    "    img_resize = cv.resize(img,new_dim,interpolation=cv.INTER_NEAREST)\n",
    "    display_images([img,img_resize],(\"original\",\"resize\"))\n",
    "\n",
    "\n",
    "\n",
    "def profile_method(method, method_name):\n",
    "    profiler = cProfile.Profile()\n",
    "    profiler.enable()\n",
    "    \n",
    "    method()\n",
    "    \n",
    "    profiler.disable()\n",
    "    s = StringIO()\n",
    "    stats = pstats.Stats(profiler, stream=s).sort_stats('cumtime')\n",
    "    stats.print_stats()\n",
    "    \n",
    "    print(f\"Profiling results for {method_name}:\")\n",
    "    print(s.getvalue())\n",
    "\n",
    "profile_method(method_1, \"Linear Interpolation\")\n",
    "profile_method(method_2, \"Cubic Interpolation\")\n",
    "profile_method(method_3, \"Nearest Neighbor interpolation\")\n"
   ]
  },
  {
   "cell_type": "markdown",
   "id": "c68424ce-c203-406a-8bf6-aff6e14fadd6",
   "metadata": {},
   "source": [
    "## It can be shown that :\n",
    "1. Nearest Neighbor interpolation is the fastest (0.089 seconds)\n",
    "2. Cubic interpolation is the second fastest (0.113 seconds)\n",
    "3. Linear interpolation is the slowest (0.293 seconds)\n",
    "\n",
    ">Additional Reference : <br>\n",
    "[1] https://stackoverflow.com/questions/3112364/how-do-i-choose-an-image-interpolation-method-emgu-opencv\n",
    "<br>[2] https://medium.com/htx-s-s-coe/image-super-resolution-a-comparison-between-interpolation-deep-learning-based-techniques-to-25e7531ab207\n",
    "\n",
    "- As for quality of images :\n",
    "  - Nearest neighbour :Results in an image with higher resolution, but will look blocky and unnatural\n",
    "  - Cubic : Results in sharper image compared to Nearest neighbor and Linear\n",
    "  - Linear : Results in smoother results than nearest neighbor, but edges don't look good"
   ]
  }
 ],
 "metadata": {
  "kernelspec": {
   "display_name": "Python 3 (ipykernel)",
   "language": "python",
   "name": "python3"
  },
  "language_info": {
   "codemirror_mode": {
    "name": "ipython",
    "version": 3
   },
   "file_extension": ".py",
   "mimetype": "text/x-python",
   "name": "python",
   "nbconvert_exporter": "python",
   "pygments_lexer": "ipython3",
   "version": "3.10.6"
  }
 },
 "nbformat": 4,
 "nbformat_minor": 5
}
