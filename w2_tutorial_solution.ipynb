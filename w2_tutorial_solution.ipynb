{
 "cells": [
  {
   "attachments": {
    "5d4026b2-6b16-4515-8e03-3065096fa0e8.png": {
     "image/png": "[encoded data removed]"
    }
   },
   "cell_type": "markdown",
   "id": "93c42ea0-71c1-47db-a722-61f6b6260677",
   "metadata": {},
   "source": [
    "## Exercises\n",
    "1. Find the range of values for each of the following data types:\n",
    "    * `uint8`\n",
    "    * `int8`\n",
    "    * `uint32`\n",
    "    * `int32`\n",
    "2. Try to write a simple custom function to determine whether a given integer is odd or even number.\n",
    "3. Write a simple example code to show that Numpy is more efficient in numerical computation of large arrays of data than equivalent Python list.\n",
    "4. Run the following codes:\n",
    "```python\n",
    "    # create a 1D array\n",
    "    my_arr = np.arange(10)\n",
    "    print(\"Initial my_arr: \", my_arr)\n",
    "    arr_slice = my_arr\n",
    "    print(\"Initial arr_slice: \", arr_slice)\n",
    "\n",
    "    # change the first element of arr_slice\n",
    "    arr_slice[0] = 55\n",
    "\n",
    "    print(\"my_arr: \", my_arr)\n",
    "    print(\"arr_slice: \", arr_slice)\n",
    "```\n",
    "What do you notice? Propose a way to reassign `arr_slice` with new value **without modifying** `my_arr`.\n",
    "\n",
    "5. Create an image as shown as the following with the help of Numpy and matplotlib modules. You can arbitrarily set the dimension of the image and white circular spot at the middle.\n",
    "\n",
    "![image.png](attachment:5d4026b2-6b16-4515-8e03-3065096fa0e8.png)"
   ]
  },
  {
   "cell_type": "markdown",
   "id": "ea03af58-186b-47fc-949e-80cb5f3afa36",
   "metadata": {},
   "source": [
    "## Solution Exercise 1"
   ]
  },
  {
   "cell_type": "code",
   "execution_count": 14,
   "id": "f0722e96-9ecb-410d-9949-a81565d98ed8",
   "metadata": {},
   "outputs": [
    {
     "name": "stdout",
     "output_type": "stream",
     "text": [
      "uint8 ranges from 0 - 255\n",
      "int8 ranges from -128 - 127\n",
      "uint32 ranges from 0 - 4294967295\n",
      "int32 ranges from -2147483648 - 2147483647\n"
     ]
    }
   ],
   "source": [
    "#the idea is to find the range of threshold values accepted by each data type\n",
    "#we want to find min and max values\n",
    "#Reference [1] : https://numpy.org/doc/stable/reference/generated/numpy.iinfo.html#numpy-iinfo\n",
    "#Reference [2] : https://stackoverflow.com/questions/23189506/maximum-allowed-value-for-a-numpy-data-type\n",
    "\n",
    "import numpy as np\n",
    "\n",
    "uint8_min = np.iinfo(np.uint8).min\n",
    "uint8_max = np.iinfo(np.uint8).max\n",
    "\n",
    "int8_min = np.iinfo(np.int8).min\n",
    "int8_max = np.iinfo(np.int8).max\n",
    "\n",
    "uint32_min = np.iinfo(np.uint32).min\n",
    "uint32_max = np.iinfo(np.uint32).max\n",
    "\n",
    "int32_min = np.iinfo(np.int32).min\n",
    "int32_max = np.iinfo(np.int32).max\n",
    "\n",
    "print(f\"uint8 ranges from {uint8_min} - {uint8_max}\")\n",
    "print(f\"int8 ranges from {int8_min} - {int8_max}\")\n",
    "print(f\"uint32 ranges from {uint32_min} - {uint32_max}\")\n",
    "print(f\"int32 ranges from {int32_min} - {int32_max}\")\n"
   ]
  },
  {
   "cell_type": "markdown",
   "id": "ceb66e1b-4f23-4b01-a4ee-d3f3e969bcc8",
   "metadata": {},
   "source": [
    "## Solution Exercise 2"
   ]
  },
  {
   "cell_type": "code",
   "execution_count": 18,
   "id": "705019df-6a01-4aee-a9c8-ec79770cdd9e",
   "metadata": {},
   "outputs": [
    {
     "name": "stdout",
     "output_type": "stream",
     "text": [
      "5 is an odd integer\n",
      "4 is an even integer\n",
      "0 is an even integer\n"
     ]
    }
   ],
   "source": [
    "def odd_even(x):\n",
    "    if(x%2 ==0):\n",
    "        print(f\"{x} is an even integer\")\n",
    "    elif (x%2 ==1):\n",
    "        print(f\"{x} is an odd integer\")\n",
    "    elif (x==0):\n",
    "        print(f\"{x} is neither odd nor even\")\n",
    "    else:\n",
    "        print(f\"{x} is not a valid integer\")\n",
    "\n",
    "#function call for 3 test cases\n",
    "odd_even(5)\n",
    "odd_even(4)\n",
    "odd_even(0)"
   ]
  },
  {
   "cell_type": "markdown",
   "id": "ffad4954-475f-4b23-a406-62d9dc5d45ba",
   "metadata": {},
   "source": [
    "## Alternative Solution Exercise 2"
   ]
  },
  {
   "cell_type": "code",
   "execution_count": 22,
   "id": "c53ea3eb-bbfe-4310-add8-e188d9fc8f56",
   "metadata": {},
   "outputs": [
    {
     "name": "stdout",
     "output_type": "stream",
     "text": [
      "5 is an odd integer\n",
      "4 is an even integer.\n",
      "0 is neither odd nor even\n"
     ]
    }
   ],
   "source": [
    "#Reference [3]: Dr Lim friday practical class teachings\n",
    "\n",
    "def odd_even(x):\n",
    "    \"\"\"Function to check whether x is an odd or even integer.\n",
    "    Arguments:\n",
    "    ---\n",
    "    x: must be integer\n",
    "    \n",
    "    Return:\n",
    "    ---\n",
    "    statement to show whether x is an odd or even integer\"\"\"\n",
    "    # set up a if control flow\n",
    "    if isinstance(x, int):\n",
    "        if (x % 2 == 0) and (x != 0):\n",
    "            print(f\"{x} is an even integer.\")\n",
    "        elif x % 2 == 1:\n",
    "            print(f\"{x} is an odd integer\")\n",
    "        elif x == 0:\n",
    "            print(f\"{x} is neither odd nor even\")\n",
    "\n",
    "    else:\n",
    "        print(f\"{x} is not an integer.\")\n",
    "\n",
    "#function call for 3 test cases\n",
    "odd_even(5)\n",
    "odd_even(4)\n",
    "odd_even(0)"
   ]
  },
  {
   "cell_type": "markdown",
   "id": "3e0a220d-7d9a-4589-ac85-83e26dc61fb2",
   "metadata": {},
   "source": [
    "## Solution Exercise 3"
   ]
  },
  {
   "cell_type": "markdown",
   "id": "4459d2fb-07cd-4ed7-83ca-e301d0fac6fb",
   "metadata": {},
   "source": [
    "- Mainly speaking :\n",
    "- Numpy arrays are homogenous as compared to python lists which are heterogenous\n",
    "- Homegenous means store elements of the same data type, Heterogenous means store elements of different data type\n",
    "- Note that, there are defintely several differences such as memory allocation, but homogenity is the main difference"
   ]
  },
  {
   "cell_type": "markdown",
   "id": "12e58337-c08d-47bf-9825-b8f786ee475a",
   "metadata": {},
   "source": [
    "### Below is one example code of the dominance of Numpy compared to Lists"
   ]
  },
  {
   "cell_type": "markdown",
   "id": "1ca6eec6-4cea-49e3-8aeb-568304cf79a3",
   "metadata": {},
   "source": [
    "- In the below code, we try the most common machine learning operations / calculations\n",
    "- Dot product mainly regards matrix multiplication"
   ]
  },
  {
   "cell_type": "code",
   "execution_count": 57,
   "id": "3c37d049-51e6-4d7c-a7ea-2ce79de83958",
   "metadata": {},
   "outputs": [
    {
     "name": "stdout",
     "output_type": "stream",
     "text": [
      "Time taken for lists : 0.088787\n",
      "Time taken for NumpyArray : 0.001001\n"
     ]
    }
   ],
   "source": [
    "#Compare the speed of dot product using lists vs numpy array\n",
    "#but the catch is that we have use a very large n value to start to see the results\n",
    "# ideally [i for i in range(n)] where n >= 1000000\n",
    "\n",
    "import time \n",
    "n = 1000000\n",
    "list1 = [i for i in range(n)]\n",
    "list2 = [i for i in range(n)]\n",
    "\n",
    "start = time.time()\n",
    "dot = 0\n",
    "for i,j in zip(list1,list2):\n",
    "    dot += i*j\n",
    "end = time.time()\n",
    "\n",
    "print(\"Time taken for lists :\" ,round(end-start,6))\n",
    "\n",
    "#for numpy array\n",
    "arr1 = np.array([i for i in range(n)])\n",
    "arr2 = np.array([i for i in range(n)])\n",
    "\n",
    "start = time.time()\n",
    "\n",
    "arr = np.dot(arr1,arr2)\n",
    "\n",
    "end = time.time()\n",
    "\n",
    "print(\"Time taken for NumpyArray :\" ,round(end-start,6))"
   ]
  },
  {
   "cell_type": "markdown",
   "id": "210c91be-348e-4072-a1b9-046863da61a7",
   "metadata": {},
   "source": [
    "## Solution Exercise 4"
   ]
  },
  {
   "cell_type": "code",
   "execution_count": 59,
   "id": "c327012a-59c2-43ec-9236-e44b3a4853c8",
   "metadata": {},
   "outputs": [
    {
     "name": "stdout",
     "output_type": "stream",
     "text": [
      "Initial my_arr:  [0 1 2 3 4 5 6 7 8 9]\n",
      "Initial arr_slice:  [0 1 2 3 4 5 6 7 8 9]\n",
      "my_arr:  [0 1 2 3 4 5 6 7 8 9]\n",
      "arr_slice:  [55  1  2  3  4  5  6  7  8  9]\n"
     ]
    }
   ],
   "source": [
    "# What do you notice? Propose a way to reassign arr_slice with new value without modifying my_arr\n",
    "# create a 1D array\n",
    "my_arr = np.arange(10)\n",
    "print(\"Initial my_arr: \", my_arr)\n",
    "\n",
    "# modified code \n",
    "arr_slice = my_arr.copy()\n",
    "print(\"Initial arr_slice: \", arr_slice)\n",
    "\n",
    "# change the first element of arr_slice\n",
    "arr_slice[0] = 55\n",
    "\n",
    "print(\"my_arr: \", my_arr)\n",
    "print(\"arr_slice: \", arr_slice)"
   ]
  },
  {
   "cell_type": "markdown",
   "id": "ff050e5c-3f59-49d5-a621-ff51a9e57863",
   "metadata": {},
   "source": [
    "- from the above code, it is shown that the value of my_arr was changed with arr_slice\n",
    "- this is because they are pointing to the same array values\n",
    "- the solution is to perform a copy of the contents of the list"
   ]
  },
  {
   "cell_type": "markdown",
   "id": "dda15893-6b8b-4432-a5b0-f038b0c0906c",
   "metadata": {},
   "source": [
    "## Solution Exercise 5"
   ]
  },
  {
   "cell_type": "code",
   "execution_count": 67,
   "id": "d0f07a6d-a906-4a6b-9ae6-098690d5cea6",
   "metadata": {},
   "outputs": [
    {
     "data": {
      "image/png": "[encoded data removed]",
      "text/plain": [
       "<Figure size 640x480 with 1 Axes>"
      ]
     },
     "metadata": {},
     "output_type": "display_data"
    }
   ],
   "source": [
    "import matplotlib.pyplot as plt\n",
    "black = np.zeros((200,200),dtype=np.uint8)\n",
    "\n",
    "plt.imshow(black,cmap=\"gray\",vmin=0,vmax=255)\n",
    "plt.title(\"White spot with black foreground\")\n",
    "\n",
    "plt.scatter(200/2,200/2,s=7000,c='white')\n",
    "\n",
    "plt.show()"
   ]
  }
 ],
 "metadata": {
  "kernelspec": {
   "display_name": "Python 3 (ipykernel)",
   "language": "python",
   "name": "python3"
  },
  "language_info": {
   "codemirror_mode": {
    "name": "ipython",
    "version": 3
   },
   "file_extension": ".py",
   "mimetype": "text/x-python",
   "name": "python",
   "nbconvert_exporter": "python",
   "pygments_lexer": "ipython3",
   "version": "3.10.6"
  }
 },
 "nbformat": 4,
 "nbformat_minor": 5
}
